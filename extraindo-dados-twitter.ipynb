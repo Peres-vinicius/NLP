{
 "cells": [
  {
   "cell_type": "code",
   "execution_count": 1,
   "id": "c80cebfc",
   "metadata": {},
   "outputs": [],
   "source": [
    "# Instala o pacote tweepy\n",
    "#!pip install tweepy"
   ]
  },
  {
   "cell_type": "markdown",
   "id": "d51729b5",
   "metadata": {},
   "source": [
    "## IMPORTS"
   ]
  },
  {
   "cell_type": "code",
   "execution_count": 1,
   "id": "1c4a8277",
   "metadata": {},
   "outputs": [],
   "source": [
    "import tweepy as tw\n",
    "import time as tm\n",
    "import sqlite3\n",
    "import pandas as pd\n",
    "from datetime import datetime, timedelta"
   ]
  },
  {
   "cell_type": "markdown",
   "id": "ab518d1f",
   "metadata": {},
   "source": [
    "## FUNCTIONS"
   ]
  },
  {
   "cell_type": "code",
   "execution_count": 2,
   "id": "f86173bc",
   "metadata": {},
   "outputs": [],
   "source": [
    "def create_db(name):\n",
    "    # cria o bd, a table registros e retorna o con e o cur\n",
    "    name = name + '.db'\n",
    "    con = sqlite3.connect(name)\n",
    "    cur = con.cursor()\n",
    "    cur.execute('CREATE TABLE registros (texto TEXT)')\n",
    "    return con, cur"
   ]
  },
  {
   "cell_type": "code",
   "execution_count": 3,
   "id": "ce7b9ac2",
   "metadata": {},
   "outputs": [],
   "source": [
    "def connect_twitter(BEARER_TOKEN, CONSUMER_KEY, CONSUMER_SECRET, ACCESS_TOKEN, ACCESS_TOKEN_SECRET):\n",
    "    # conectando ao twitter\n",
    "    return tw.Client(BEARER_TOKEN, CONSUMER_KEY, CONSUMER_SECRET, ACCESS_TOKEN, ACCESS_TOKEN_SECRET)\n",
    "    "
   ]
  },
  {
   "cell_type": "code",
   "execution_count": 4,
   "id": "16ef5dfd",
   "metadata": {},
   "outputs": [],
   "source": [
    "def extracting_data(client_twitter, query, start_time, end_minutes_time):\n",
    "    \"\"\"\n",
    "    client_twitter : obj retornado da função connect_twitter\n",
    "    query : termo para busca\n",
    "    start_time : obj do tipo datetime\n",
    "    end_time : int com minutos\n",
    "    \"\"\"\n",
    "    result = []\n",
    "    minutes = 1\n",
    "    while minutes <= end_minutes_time:\n",
    "        end_time = start_time + timedelta(days = 0, minutes = minutes)\n",
    "        print(end_time)\n",
    "        res = client_twitter.search_recent_tweets(query=query, max_results=100, start_time=start_time, end_time=end_time)\n",
    "        res = res.data\n",
    "        result.append(res)\n",
    "        tm.sleep(5)\n",
    "        minutes +=1\n",
    "    return result"
   ]
  },
  {
   "cell_type": "code",
   "execution_count": 5,
   "id": "98a8de40",
   "metadata": {},
   "outputs": [],
   "source": [
    "def insert_db(cur, con, data):\n",
    "    for i in data:\n",
    "        for x in i:\n",
    "        #text = x\n",
    "        #print(x.text)\n",
    "            cur.execute(\"INSERT INTO registros (texto) VALUES (?);\", (x.text,))\n",
    "        #tm.sleep(1)\n",
    "    con.commit()\n",
    "    con.close()"
   ]
  },
  {
   "cell_type": "code",
   "execution_count": 5,
   "id": "106bbb6f",
   "metadata": {},
   "outputs": [],
   "source": [
    "def read_data(name_db):\n",
    "    # conectando ao banco sqlite\n",
    "    db = name_db + '.db'\n",
    "    con = sqlite3.connect(db)\n",
    "    cur = con.cursor()\n",
    "    # busca todos os registros\n",
    "    cur.execute('SELECT * FROM registros')\n",
    "    res = cur.fetchall()\n",
    "    con.close()\n",
    "    #adiciona a um df\n",
    "    res = pd.DataFrame(res)\n",
    "    res.columns = ['Text']\n",
    "    return res"
   ]
  },
  {
   "cell_type": "code",
   "execution_count": 7,
   "id": "4e67b24b",
   "metadata": {},
   "outputs": [],
   "source": [
    "CONSUMER_KEY = ''\n",
    "CONSUMER_SECRET = ''\n",
    "BEARER_TOKEN = ''\n",
    "ACCESS_TOKEN = ''\n",
    "ACCESS_TOKEN_SECRET = ''"
   ]
  },
  {
   "cell_type": "code",
   "execution_count": 8,
   "id": "934091e9",
   "metadata": {},
   "outputs": [],
   "source": [
    "# criando conexão a api do twitter\n",
    "client = connect_twitter(BEARER_TOKEN, CONSUMER_KEY, CONSUMER_SECRET, ACCESS_TOKEN, ACCESS_TOKEN_SECRET)"
   ]
  },
  {
   "cell_type": "code",
   "execution_count": 9,
   "id": "81909528",
   "metadata": {},
   "outputs": [],
   "source": [
    "# criando BD para adicionar os dados\n",
    "con, cur = create_db('db_war')"
   ]
  },
  {
   "cell_type": "code",
   "execution_count": 10,
   "id": "dbf9bc74",
   "metadata": {},
   "outputs": [
    {
     "name": "stdout",
     "output_type": "stream",
     "text": [
      "2022-03-01 12:16:00\n",
      "2022-03-01 12:17:00\n",
      "2022-03-01 12:18:00\n",
      "2022-03-01 12:19:00\n",
      "2022-03-01 12:20:00\n",
      "2022-03-01 12:21:00\n",
      "2022-03-01 12:22:00\n",
      "2022-03-01 12:23:00\n",
      "2022-03-01 12:24:00\n",
      "2022-03-01 12:25:00\n"
     ]
    }
   ],
   "source": [
    "star = datetime(year=2022, month=3, day=1, hour=12, minute=15, second=0)\n",
    "end_minutes_time = 10\n",
    "query = 'war'\n",
    "aux = extracting_data(client_twitter=client, query=query, start_time=star, end_minutes_time=end_minutes_time)"
   ]
  },
  {
   "cell_type": "code",
   "execution_count": 13,
   "id": "ffe929b7",
   "metadata": {},
   "outputs": [
    {
     "data": {
      "text/plain": [
       "[<Tweet id=1498633146140704769 text='RT @Mandoline_Blue: The European parliament will call for EU-wide restrictions on imports of Russian oil &amp; gas, to strategically weaken Rus…'>,\n",
       " <Tweet id=1498633145914359816 text='RT @ByRakeshSimha: ▶️If you supported the savage bombing of Baghdad and Basra\\n▶️If supported the war that led to the deaths of a million Ir…'>,\n",
       " <Tweet id=1498633145855447045 text=\"@CorbynOver @AaronBastani A war specifically between 2 countries cannot be classified as a World War. This shouldn't really need explaining.\">,\n",
       " <Tweet id=1498633145628999682 text='RT @piersmorgan: There’s a 40-MILE convoy of Russian military vehicles heading towards Kyiv to surround the city, trap the people there, an…'>,\n",
       " <Tweet id=1498633145620602880 text='RT @CalltoActivism: BREAKING: the International Criminal Court will open an inquiry  into Russia’s invasion of Ukraine.\\n\\nRT if you want the…'>,\n",
       " <Tweet id=1498633145540755460 text='RT @Sagar08573388: one indian name Naveen lost his life due to war. \\nModi Govt is making efforts more than any so called super power now.…'>,\n",
       " <Tweet id=1498633145431822336 text='RT @EricLondonSEP: War propaganda from New York Times: \\n\\nThe 499k fleeing west are called refugees (correct), but the 129k fleeing east don…'>,\n",
       " <Tweet id=1498633145331105794 text='RT @KoosdlRey: The Russian Yevgeny Maximov on his return from the Second Boer War dressed in the uniform of a Transvaal general. A friend o…'>,\n",
       " <Tweet id=1498633145117286405 text=\"RT @ekurd_net: Navalny's supporters call for civil disobedience against Ukraine war https://t.co/mdZykGdl7u\">,\n",
       " <Tweet id=1498633145054375936 text='RT @carolecadwalla: “NATO is afraid of World War III. But it has already started. And it’s Ukrainian children taking the hit”\\n\\nBrilliant, i…'>,\n",
       " <Tweet id=1498633144781750275 text='RT @glastris: Pay more attention to Belarus, Putin’s key ally in attacking not just Ukraine but NATO countries directly, says veteran journ…'>,\n",
       " <Tweet id=1498633144773316616 text='RT @carolecadwalla: “NATO is afraid of World War III. But it has already started. And it’s Ukrainian children taking the hit”\\n\\nBrilliant, i…'>,\n",
       " <Tweet id=1498633144735518724 text='RT @RealCarlVernon: So after it being a life or death situation all the mandates suddenly drop globally as we slip into the war narrative.…'>,\n",
       " <Tweet id=1498633144437817349 text='RT @SkyNews: \\'For some people, this day is their last one\\'.\\n\\nUkrainian President Volodymyr Zelenskyyy says \"thousands of people\" have been…'>,\n",
       " <Tweet id=1498633144303509508 text='RT @iw_koeln: IW-Direktor @michael_huether zieht in der @KSTA anhand der Regierungserklärung von @Bundeskanzler Scholz eine Parallele von E…'>,\n",
       " <Tweet id=1498633144194551809 text='RT @unian: Ворог – на підступах до столиці: Кличко розповів про ситуацію у Києві\\nhttps://t.co/DKiF3Uqzd9 https://t.co/n0w6QHaJV9'>,\n",
       " <Tweet id=1498633144018350082 text='Big Oil tweeting directly before war is the stuff that only exists in nightmares https://t.co/RutpPEuw1B'>,\n",
       " <Tweet id=1498633144005804032 text='RT @franakviacorka: More than 860 people were detained at the protests against the war in Ukraine and Lukashenka, who supported Putin in it…'>,\n",
       " <Tweet id=1498633143783411726 text='RT @kylegriffin1: THE HAGUE, Netherlands (AP) — International Criminal Court prosecutor to open probe into possible war crimes or crimes ag…'>,\n",
       " <Tweet id=1498633143779266573 text=\"@lewa_tywkaa @virtuspro - ESforce, MailRu. Not a single word about the war in Ukraine. Assumingly, supports Kremlin's decision.\\n\\n@GambitEsports - MTS, one of Russia's largest mobile operators. Doesn't acknowledge the fact that the Russian government is killing civilians in Ukraine.\">,\n",
       " <Tweet id=1498633143594942467 text='RT @JavedAlamShaik4: Russia -Ukrain War : खारकीव में रूसी गोलाबारी से भारतीय छात्र नवीन शेखरप्पा की मौत, खरीदारी के लिए बाहर निकला था।\\n\\nपू…'>,\n",
       " <Tweet id=1498633143577837573 text='RT @_DadasPrincess: कहा से इकट्ठा किया हा बीजेपी ने ये सब मा_ल। ये तो Watsapps University से भी आगे  निकल चुके है \\n2008 सीरिया war तोबा तो…'>,\n",
       " <Tweet id=1498633143468834818 text='RT @NeilPHauer: Friends in Chechnya telling about just how unpopular this war is there. Everyone hoping for Russian/Kadyrovtsy deaths. \"Ukr…'>,\n",
       " <Tweet id=1498633143364079624 text='RT @voiceoftigray21: #AbiyAhmedAli committed ethnic cleansing &amp; war crimes against the #Tigray people. #Europe must be a place of justice.…'>,\n",
       " <Tweet id=1498633143313645573 text='RT @Axumawii: 482 days into the Genocidal war on #Tigray, the Kunama &amp; Irob people are still suffering disparate and existential consequenc…'>,\n",
       " <Tweet id=1498633143221653508 text='@SURANJA88971267 @KapilSadyal @RahulGandhi Are madharchhoddd war ke wajhe se na price increase hua hai ye koi kyun ki kah raha'>,\n",
       " <Tweet id=1498633143003320326 text='RT @StephenMoore: America is importing 75,000 barrels a day from Russia.\\xa0\\n\\nThis means, Joe Biden is handing Putin over $10M per day for ene…'>,\n",
       " <Tweet id=1498633142915276803 text='RT @ronanburtenshaw: Britain should take every Ukrainian refugee that wants to come here. The fact that the Labour leadership can engage in…'>,\n",
       " <Tweet id=1498633142848172036 text='RT @carolecadwalla: “NATO is afraid of World War III. But it has already started. And it’s Ukrainian children taking the hit”\\n\\nBrilliant, i…'>,\n",
       " <Tweet id=1498633142780968965 text='RT @amanpour: As the civilian population of Ukraine is being bombarded, President Zelensky is showing that he will not leave his people at…'>,\n",
       " <Tweet id=1498633142668005376 text='These line from the film Border stands so true for any war, anywhere in the world...\\nजंग तो चंद रोज़ होती है\\nज़िन्दगी बरसों तलक रोती है\\n\\n#war #RussiaUkraine'>,\n",
       " <Tweet id=1498633142558679045 text=\"RT @BuweekulaPrody: All news outlets showing us only one side of the war, why?\\nWe need to know what Russia is doing. This all can't be happ…\">,\n",
       " <Tweet id=1498633142420525062 text=\"@nhk_jsclub keeping peace no war\\npray for making better places and have been fasely framed up which has been linked with Mizuho airen rose's husband Jr.and DR.Shouta Totsuka and Mizuho airen rose's rarelygenuinelovestory since 1993. https://t.co/H13yUKBkIc\">,\n",
       " <Tweet id=1498633142403571718 text='RT @Kalli_F: Κάθε φορά που γράφει ένας ινφλουενσερ «stop the war», ξύνει ο Πούτιν τ’αρχιδια του κ με τα δυο του τα χέρια.'>,\n",
       " <Tweet id=1498633142386704387 text='RT @olliecarroll: Common refrain among Ukrainians — common folk and officials. “We will win, because we don’t have any other choice.” They…'>,\n",
       " <Tweet id=1498633142374223875 text='RT @XSovietNews: The UK is under pressure to respond as well as or better than the EU to the war, which could be a good thing.'>,\n",
       " <Tweet id=1498633141833158656 text='RT @AmishCatholic: One can also forcefully oppose Putin’s decision to start a war and kill thousands of people in a bloodthirsty imperialis…'>,\n",
       " <Tweet id=1498633141552283650 text='RT @swilkinsonbc: Go on! be freedom fighters! resist your occupiers; knock ya socks off! make molotov cocktails! be herofied! as long as yo…'>,\n",
       " <Tweet id=1498633141245906945 text='RT @POLITICOEurope: One of the US’ top experts on Russia says we are already in the middle of a Third World War, whether we’ve fully graspe…'>,\n",
       " <Tweet id=1498633141073948672 text='RT @KimDotcom: I hate what’s happening to the people of Ukraine. They are the victims of both Russia and US.\\n\\nBut this war is a result of a…'>,\n",
       " <Tweet id=1498633140952354827 text='@jumpup_johnny @vyassaran @Abbott19Julia @CBCNews Bullshit, you are to scared to get a vaccine how are you going to fight a war?'>,\n",
       " <Tweet id=1498633140507713541 text='RT @_IainMartin: Also a great longer read on EPAM from @PhillyJoeD \\nhttps://t.co/np5rtmeqOB'>,\n",
       " <Tweet id=1498633140469997571 text=\"@ragipsoylu @gregpmiller *children murdered by Putin.\\n\\nEvery casualty in this war is part of Putin's mass murder.\">,\n",
       " <Tweet id=1498633140373532681 text='RT @at2rty: @W7VOA EU is going bunkers/ no different than Hitler 1939/ news about the EU🙃/ fighting a war that is already lost. on the inve…'>,\n",
       " <Tweet id=1498633140331548672 text=\"RT @FeistyFifties23: I'm attending a @STWUK event: \\n\\nNo to War in #Ukraine - #London Demonstration.\\n\\nRSVP here... https://t.co/k2mnLIKKp4\">,\n",
       " <Tweet id=1498633140167925760 text=\"I think it's funny when liberals where saying, when trump gets us in another war all yall gun lover and trump supporters better be the ones fighting. Because what are they doing now\">,\n",
       " <Tweet id=1498633140058959876 text=\"RT @SlavaMalamud: I won't be in the Hall of Fame. I can't change many minds. Ovechkin will be and can.\\nContrary to what you think, his fami…\">,\n",
       " <Tweet id=1498633140029566980 text='RT @EdmundGriffiths: The invasion of Ukraine is wrong bc it kills &amp; maims innocent people, displaces them from their homes, destroys infras…'>,\n",
       " <Tweet id=1498633139631104004 text='@bobby_JD_AJ @BernieSanders The Ukraine would’ve been part of NATO if it wasn’t for Putin demanding that they never be excepted and this was before this war broke out. It’s scary that someone could have that much power to force NATO not to include a country. Putin needs to be taken down.'>,\n",
       " <Tweet id=1498633139563864064 text='RT @_DadasPrincess: कहा से इकट्ठा किया हा बीजेपी ने ये सब मा_ल। ये तो Watsapps University से भी आगे  निकल चुके है \\n2008 सीरिया war तोबा तो…'>,\n",
       " <Tweet id=1498633139505315847 text='RT @DmytroKuleba: Barbaric Russian missile strikes on the central Freedom Square and residential districts of Kharkiv. Putin is unable to b…'>,\n",
       " <Tweet id=1498633139392061440 text='Faschingsdienstag.\\nDer war mir noch nie sonderlich wichtig. \\nAber wir haben ab 12.00 frei.\\nEin geschenkter halber Tag.\\nVoll geil.'>,\n",
       " <Tweet id=1498633139349954560 text='RT @Dominic2306: A No Fly Zone enforced by NATO is an act of war that could *easily start A NUCLEAR WAR*. \\nIt is INSANE &amp; coming from many…'>,\n",
       " <Tweet id=1498633139253620737 text=\"RT @christogrozev: Ukraine's media savvy authorities appear to spend enough attention to keeping Ukraine's civilian population motivated an…\">,\n",
       " <Tweet id=1498633138884464640 text='Ukraine War Today- Shot down helicopter https://t.co/MqTSPWaCsi via @YouTube \\n#Ukraine #ukrainewar #ukrainian #UkraineMilitaryAidNOW  #Kiev #ukrainekyiv #Kyiv #KyivUkraine #UkraineWillResist #UkraineRussiaWar #warfootage #Ukrainevideo'>,\n",
       " <Tweet id=1498633138523852801 text='https://t.co/xA6KA9IvHA\\n\\nWar Thunder Game Hack Cheat Generator #warthunder #warthundercheat #warthundermod #warthundergenerator #warthunderhack https://t.co/wP4KaNJvEI'>,\n",
       " <Tweet id=1498633138456731649 text='RT @MedvedevRussiaE: Today, some French minister has said that they declared an economic war on Russia. Watch your tongue, gentlemen! And d…'>,\n",
       " <Tweet id=1498633138263764992 text='RT @_ERNRITA: ERN-RITA is deeply concerned by this dreadful situation in Ukraine and will do everything possible so that patients, includin…'>,\n",
       " <Tweet id=1498633138146209794 text='RT @RajivMessage: Indian student Rashid Rizwan stranded amid war had protested against CAA in Ukraine: Details https://t.co/shxXcHMpCH'>,\n",
       " <Tweet id=1498633138142023681 text='RT @fucking__bass: ゼレンスキーは、「私たちと一緒に、間違いなくEUは強くなる」とし、「私たちは土地と自由のために戦っている」と発表しました。\\n\\n#Russia\\n#Ukraine \\n#war https://t.co/7ZTYlz3t13'>,\n",
       " <Tweet id=1498633137747812360 text='RT @RealHauleGluck: We as an International Community cannot stand by idle as rape is weaponized, starvation, drone attacks. We must take ac…'>,\n",
       " <Tweet id=1498633137609392128 text='RT @kylegriffin1: THE HAGUE, Netherlands (AP) — International Criminal Court prosecutor to open probe into possible war crimes or crimes ag…'>,\n",
       " <Tweet id=1498633137387102208 text='RT @anthonycwalker: No heat where I slept last night. 14°C. War sucks.'>,\n",
       " <Tweet id=1498633137374572547 text='@kpru seine das eine grauen mann getötet war ,dann war 2 frauen eine war mit hund bedeutet es das sie zeuge bei polizei war wo eine getötet war mit graue haare ,dann sie war mit schwarze line ,alsso haben wir personen bei spazierren'>,\n",
       " <Tweet id=1498633137252933638 text='RT @ronanburtenshaw: Britain should take every Ukrainian refugee that wants to come here. The fact that the Labour leadership can engage in…'>,\n",
       " <Tweet id=1498633137156505602 text=\"@mattuthompson Sure. I agree that would lead to retaliation by Russia. I don't agree it would technically be an act of war to establish a no-fly-zone over a sovereign territory that agrees to the zone - and we should not call it that. Words matter.\">,\n",
       " <Tweet id=1498633136858894337 text='Grow your onlyfans and donate war casualties of ukraine on Instagram.\\nWe help you to grow your OnlyFans at instagram over 12millions+ network 📩 most visit\\nhttps://t.co/1zEeYBXjCA https://t.co/TbU9aAers2'>,\n",
       " <Tweet id=1498633136825151488 text='RT @GissouNia: Today, @IHRDC, through my co-counsel @dijkstal and myself, sent an Article 15 communication to the International Criminal Co…'>,\n",
       " <Tweet id=1498633136703520769 text='RT @Waveboywavez: The feminist are very silent at this period of Russia-Ukraine war, no no no this is the time to speak up this is the time…'>,\n",
       " <Tweet id=1498633136686743564 text='RT @AndrewFeinberg: This thermobaric explosion is a war crime.  https://t.co/4okmx2kUSU'>,\n",
       " <Tweet id=1498633136648986627 text=\"RT @AFP: #BREAKING Ukraine's Zelensky says Russian shelling on Kharkiv a 'war crime' https://t.co/1IzUwzoBSS\">,\n",
       " <Tweet id=1498633136615346176 text='RT @noahlambert11: @fcsm_eng You cannot expect a club to represent Russia in a European competition when they are fighting a war against an…'>,\n",
       " <Tweet id=1498633136569298944 text='@EuromaidanPR Yes and make Word War 3 official. 🤦\\u200d♂️'>,\n",
       " <Tweet id=1498633136539852804 text=\"@TheVoic97615729 @MartynWilliams2 @Mij_Europe Europe isn't at war with the UK. \\n\\nUK made its bed; it will have to lie in it.\">,\n",
       " <Tweet id=1498633136523329537 text='Interesting insights. Almost scary how tough it is to understand the parameters of strategy and war dynamics in this age. https://t.co/xyiT1OFFmR'>,\n",
       " <Tweet id=1498633136498003969 text='RT @carolecadwalla: “NATO is afraid of World War III. But it has already started. And it’s Ukrainian children taking the hit”\\n\\nBrilliant, i…'>,\n",
       " <Tweet id=1498633136493707268 text='RT @fevenmesay: 482 days into the Genocidal war on #Tigray, the Kunama &amp; Irob people are still suffering disparate and existential conseque…'>,\n",
       " <Tweet id=1498633135956938753 text='RT @amanpour: As the civilian population of Ukraine is being bombarded, President Zelensky is showing that he will not leave his people at…'>,\n",
       " <Tweet id=1498633135952744449 text='As a citizen of the country that was lucky enough to become (and wanted to become) a @NATO member, I found this opinion in @guardian rather arrogant and shortsighted. What else would stop a Russian autocrat not attacking for example Baltic counties?\\nhttps://t.co/EDkwHiuKS9'>,\n",
       " <Tweet id=1498633135940153345 text=\"@BBCWorld Why didn't you mobilize yourselves to build better education/hospitals/etc  before the war started?Ukr is one of the poorest countries I've seen! I feel like you mobilize as to get an award for acting and by calling all the countries in a war you are making a genocide!\">,\n",
       " <Tweet id=1498633135487127561 text='RT @davidgilmour: Russian soldiers, stop killing your brothers. There will be no winners in this war.\\n\\nMy daughter-in-law is Ukrainian and…'>,\n",
       " <Tweet id=1498633135424262145 text='RT @ronanburtenshaw: Britain should take every Ukrainian refugee that wants to come here. The fact that the Labour leadership can engage in…'>,\n",
       " <Tweet id=1498633135256440832 text=\"@DPJHodges If you want the UK to declare war on the Russian Federation, fine, make an argument that it is worth the cost.  But don't pretend that a no-fly zone is different from a declaration of war.\">,\n",
       " <Tweet id=1498633135176650758 text='RT @AdGuard: We at AdGuard are deeply worried about the conflict in Ukraine. Some members of our team are in Ukraine right now. Others have…'>,\n",
       " <Tweet id=1498633135164174337 text='@DmytroKuleba Europe needs to engage fully in this unlawful war, otherwise all our ideals are hollow.\\nSlava Ukraina, Slava Europa.'>,\n",
       " <Tweet id=1498633135113879555 text='@scribbl64805724 @rabid_rabitt Your correct ,I’m not sure I’d have the courage of Russian anti war protesters. Walking away from Omelas is not the same as countenancing the complete destruction of human civilisation though .'>,\n",
       " <Tweet id=1498633134950084610 text='@ellymelly Because war is good?'>,\n",
       " <Tweet id=1498633134757539840 text='RT @KapilMishra_IND: So SWIFT = NATO ?\\n\\nMETA, Google Pay, Banking platforms, Social media platforms everything is just a weapon in the war…'>,\n",
       " <Tweet id=1498633134736551936 text='@tantannie0613 Kak bgusa war lwat app atw app ya?'>,\n",
       " <Tweet id=1498633134652506113 text='RT @tiannathewriter: Sorry but the irresponsible nature of airing this? Knowing we already have a problem with young people being groomed o…'>,\n",
       " <Tweet id=1498633134480494593 text='The Presidents of Russia and Belarus have taken their respective countries into a war the people of these nations clearly did not want.\\nRogue dictatorial governments are dangerous for their people.\\nBoris Johnson is Prime Minister.'>,\n",
       " <Tweet id=1498633134472056836 text='RT @ananavarro: Vladimir Putin is a war criminal and a monster.'>,\n",
       " <Tweet id=1498633134442749953 text='RT @Anna_Soubry: I don’t see how we can stand by &amp; allow #Putin to bomb civilians. To commit blatant war crimes - murdering people. \\n\\n#Puti…'>,\n",
       " <Tweet id=1498633134346485763 text='RT @thisisludotwee1: R.I.P. WAR https://t.co/7nu2MAAj16'>,\n",
       " <Tweet id=1498633134279065601 text='RT @ThePubliusUSA: Russia killed 16 children yesterday in its senseless and unjustified war against Ukraine. Vladimir Putin is a monster.'>,\n",
       " <Tweet id=1498633134266621954 text='RT @Dominic2306: A No Fly Zone enforced by NATO is an act of war that could *easily start A NUCLEAR WAR*. \\nIt is INSANE &amp; coming from many…'>,\n",
       " <Tweet id=1498633134216253440 text='RT @Mugaka_N: AU slams ‘racism’ in the wake of Ukraine war https://t.co/DFTrTIvoII via @The_EastAfrican'>,\n",
       " <Tweet id=1498633134099017728 text='RT @DrJillStein: Russia puts nukes on high alert. Foreign policy experts have long warned of the danger of trying to expand NATO, but the w…'>,\n",
       " <Tweet id=1498633134056914944 text='RT @nvr4get911Fdny: @ChrisMurphyCT PLEASE READ. If U Google restaurants in Moscow and leave a review. We can talk to the Russian people dir…'>,\n",
       " <Tweet id=1498633134027509766 text='RT @CURTCABLE86: @HarrisonRealT Lightskin dudes in the war https://t.co/CZbxJcAmXM'>]"
      ]
     },
     "execution_count": 13,
     "metadata": {},
     "output_type": "execute_result"
    }
   ],
   "source": [
    "aux[0]"
   ]
  },
  {
   "cell_type": "code",
   "execution_count": 11,
   "id": "3855c540",
   "metadata": {},
   "outputs": [],
   "source": [
    "insert_db_test(cur, con, aux)"
   ]
  },
  {
   "cell_type": "code",
   "execution_count": 14,
   "id": "1f27c76d",
   "metadata": {},
   "outputs": [
    {
     "data": {
      "text/html": [
       "<div>\n",
       "<style scoped>\n",
       "    .dataframe tbody tr th:only-of-type {\n",
       "        vertical-align: middle;\n",
       "    }\n",
       "\n",
       "    .dataframe tbody tr th {\n",
       "        vertical-align: top;\n",
       "    }\n",
       "\n",
       "    .dataframe thead th {\n",
       "        text-align: right;\n",
       "    }\n",
       "</style>\n",
       "<table border=\"1\" class=\"dataframe\">\n",
       "  <thead>\n",
       "    <tr style=\"text-align: right;\">\n",
       "      <th></th>\n",
       "      <th>Text</th>\n",
       "    </tr>\n",
       "  </thead>\n",
       "  <tbody>\n",
       "    <tr>\n",
       "      <th>0</th>\n",
       "      <td>RT @Mandoline_Blue: The European parliament wi...</td>\n",
       "    </tr>\n",
       "    <tr>\n",
       "      <th>1</th>\n",
       "      <td>RT @ByRakeshSimha: ▶️If you supported the sava...</td>\n",
       "    </tr>\n",
       "    <tr>\n",
       "      <th>2</th>\n",
       "      <td>@CorbynOver @AaronBastani A war specifically b...</td>\n",
       "    </tr>\n",
       "    <tr>\n",
       "      <th>3</th>\n",
       "      <td>RT @piersmorgan: There’s a 40-MILE convoy of R...</td>\n",
       "    </tr>\n",
       "    <tr>\n",
       "      <th>4</th>\n",
       "      <td>RT @CalltoActivism: BREAKING: the Internationa...</td>\n",
       "    </tr>\n",
       "  </tbody>\n",
       "</table>\n",
       "</div>"
      ],
      "text/plain": [
       "                                                Text\n",
       "0  RT @Mandoline_Blue: The European parliament wi...\n",
       "1  RT @ByRakeshSimha: ▶️If you supported the sava...\n",
       "2  @CorbynOver @AaronBastani A war specifically b...\n",
       "3  RT @piersmorgan: There’s a 40-MILE convoy of R...\n",
       "4  RT @CalltoActivism: BREAKING: the Internationa..."
      ]
     },
     "execution_count": 14,
     "metadata": {},
     "output_type": "execute_result"
    }
   ],
   "source": [
    "df = read_data('db_war')\n",
    "df.head()"
   ]
  },
  {
   "cell_type": "code",
   "execution_count": 15,
   "id": "af0ed8ab",
   "metadata": {},
   "outputs": [],
   "source": [
    "df.to_csv('base_war_twitter.csv')"
   ]
  },
  {
   "cell_type": "code",
   "execution_count": null,
   "id": "e7464e0f",
   "metadata": {},
   "outputs": [],
   "source": []
  }
 ],
 "metadata": {
  "kernelspec": {
   "display_name": "Python 3 (ipykernel)",
   "language": "python",
   "name": "python3"
  },
  "language_info": {
   "codemirror_mode": {
    "name": "ipython",
    "version": 3
   },
   "file_extension": ".py",
   "mimetype": "text/x-python",
   "name": "python",
   "nbconvert_exporter": "python",
   "pygments_lexer": "ipython3",
   "version": "3.9.7"
  }
 },
 "nbformat": 4,
 "nbformat_minor": 5
}
